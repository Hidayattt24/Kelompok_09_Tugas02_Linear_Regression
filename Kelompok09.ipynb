{
 "cells": [
  {
   "cell_type": "markdown",
   "metadata": {},
   "source": [
    "1. Pemahaman Dataset\n",
    "- Menjelaskan sumber data dan variabel yang digunakan.\n",
    "- Menampilkan statistik deskriptif dan visualisasi awal data."
   ]
  },
  {
   "cell_type": "markdown",
   "metadata": {},
   "source": [
    "2. Eksplorasi Data dan Pra-pemrosesan\n",
    "- Menangani missing values (jika ada).\n",
    "- Normalisasi atau standarisasi data jika diperlukan.\n",
    "- Analisis korelasi antara variabel independen dan dependen."
   ]
  },
  {
   "cell_type": "markdown",
   "metadata": {},
   "source": [
    "3. Implementasi Model\n",
    "- Membangun model Linear Regression dan Polynomial Regression.\n",
    "- Memilih derajat polinomial yang sesuai dengan dataset.\n",
    "- Menggunakan teknik validasi seperti train-test split atau cross-validation."
   ]
  },
  {
   "cell_type": "markdown",
   "metadata": {},
   "source": [
    "4. Evaluasi Model\n",
    "- Menggunakan metrik evaluasi seperti Mean Squared Error (MSE), R² Score, dan \n",
    "Mean Absolute Error (MAE).\n",
    "- Membandingkan kinerja regresi linear dan polinomial."
   ]
  },
  {
   "cell_type": "markdown",
   "metadata": {},
   "source": [
    "5. Analisis Hasil\n",
    "- Menginterpretasikan koefisien regresi.\n",
    "- Menyajikan grafik regression line dan polynomial fit.\n",
    "- Menyimpulkan apakah model yang dibuat cukup baik dalam memprediksi target."
   ]
  },
  {
   "cell_type": "markdown",
   "metadata": {},
   "source": [
    "6. Laporan dan Presentasi\n",
    "- Laporan dalam format PDF berisi seluruh hasil analisis dan implementasi.\n",
    "- Slide presentasi per kelompok untuk menjelaskan hasil analisis."
   ]
  }
 ],
 "metadata": {
  "language_info": {
   "name": "python"
  }
 },
 "nbformat": 4,
 "nbformat_minor": 2
}
